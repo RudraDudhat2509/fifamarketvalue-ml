{
 "cells": [
  {
   "cell_type": "code",
   "execution_count": 343,
   "id": "297b9914",
   "metadata": {},
   "outputs": [],
   "source": [
    "import pandas as pd\n",
    "import matplotlib.pyplot as plt \n",
    "import seaborn as sns \n",
    "%matplotlib inline"
   ]
  },
  {
   "cell_type": "code",
   "execution_count": 344,
   "id": "5924125f",
   "metadata": {},
   "outputs": [
    {
     "name": "stderr",
     "output_type": "stream",
     "text": [
      "C:\\Users\\rocki\\AppData\\Local\\Temp\\ipykernel_5756\\672628680.py:1: DtypeWarning: Columns (4,5,19,20,21,22,23,25,26,27,28,29,31,32,33,34,35,37,38,39,40,41,43,44,45,46,47,48,50,51,52,54,55,56,57,58,76) have mixed types. Specify dtype option on import or set low_memory=False.\n",
      "  df=pd.read_csv('fifa_players.csv')\n"
     ]
    }
   ],
   "source": [
    "df=pd.read_csv('fifa_players.csv')"
   ]
  },
  {
   "cell_type": "code",
   "execution_count": 345,
   "id": "4c49ef9c",
   "metadata": {},
   "outputs": [
    {
     "data": {
      "text/html": [
       "<div>\n",
       "<style scoped>\n",
       "    .dataframe tbody tr th:only-of-type {\n",
       "        vertical-align: middle;\n",
       "    }\n",
       "\n",
       "    .dataframe tbody tr th {\n",
       "        vertical-align: top;\n",
       "    }\n",
       "\n",
       "    .dataframe thead th {\n",
       "        text-align: right;\n",
       "    }\n",
       "</style>\n",
       "<table border=\"1\" class=\"dataframe\">\n",
       "  <thead>\n",
       "    <tr style=\"text-align: right;\">\n",
       "      <th></th>\n",
       "      <th>ID</th>\n",
       "      <th>date_id</th>\n",
       "      <th>player_name</th>\n",
       "      <th>Age</th>\n",
       "      <th>Overall rating</th>\n",
       "      <th>Potential</th>\n",
       "      <th>name</th>\n",
       "      <th>Height</th>\n",
       "      <th>Weight</th>\n",
       "      <th>foot</th>\n",
       "      <th>...</th>\n",
       "      <th>Defending / Pace</th>\n",
       "      <th>Physical / Positioning</th>\n",
       "      <th>Traits</th>\n",
       "      <th>PlayStyles</th>\n",
       "      <th>PlayStyles +</th>\n",
       "      <th>Number of playstyles</th>\n",
       "      <th>date</th>\n",
       "      <th>club_name</th>\n",
       "      <th>start_year</th>\n",
       "      <th>end_year</th>\n",
       "    </tr>\n",
       "  </thead>\n",
       "  <tbody>\n",
       "    <tr>\n",
       "      <th>0</th>\n",
       "      <td>239085</td>\n",
       "      <td>240034</td>\n",
       "      <td>Erling Haaland</td>\n",
       "      <td>22</td>\n",
       "      <td>91</td>\n",
       "      <td>94</td>\n",
       "      <td>Manchester City2022 ~ 2027</td>\n",
       "      <td>195</td>\n",
       "      <td>94</td>\n",
       "      <td>Left</td>\n",
       "      <td>...</td>\n",
       "      <td>45</td>\n",
       "      <td>88</td>\n",
       "      <td>NaN</td>\n",
       "      <td>Power HeaderQuick Step</td>\n",
       "      <td>Acrobatic +</td>\n",
       "      <td>3</td>\n",
       "      <td>2024-03-27</td>\n",
       "      <td>Manchester City</td>\n",
       "      <td>2022.0</td>\n",
       "      <td>2027.0</td>\n",
       "    </tr>\n",
       "    <tr>\n",
       "      <th>1</th>\n",
       "      <td>231747</td>\n",
       "      <td>240034</td>\n",
       "      <td>Kylian Mbappe</td>\n",
       "      <td>24</td>\n",
       "      <td>91</td>\n",
       "      <td>94</td>\n",
       "      <td>Paris Saint Germain2018 ~ 2024</td>\n",
       "      <td>182</td>\n",
       "      <td>75</td>\n",
       "      <td>Right</td>\n",
       "      <td>...</td>\n",
       "      <td>36</td>\n",
       "      <td>78</td>\n",
       "      <td>NaN</td>\n",
       "      <td>Finesse ShotRapidFlairTrivelaAcrobaticSolid Pl...</td>\n",
       "      <td>Quick Step +</td>\n",
       "      <td>7</td>\n",
       "      <td>2024-03-27</td>\n",
       "      <td>Paris Saint Germain</td>\n",
       "      <td>2018.0</td>\n",
       "      <td>2024.0</td>\n",
       "    </tr>\n",
       "    <tr>\n",
       "      <th>2</th>\n",
       "      <td>192985</td>\n",
       "      <td>240034</td>\n",
       "      <td>Kevin De Bruyne</td>\n",
       "      <td>32</td>\n",
       "      <td>91</td>\n",
       "      <td>91</td>\n",
       "      <td>Manchester City2015 ~ 2025</td>\n",
       "      <td>181</td>\n",
       "      <td>75</td>\n",
       "      <td>Right</td>\n",
       "      <td>...</td>\n",
       "      <td>65</td>\n",
       "      <td>78</td>\n",
       "      <td>NaN</td>\n",
       "      <td>Dead BallPinged PassLong Ball PassWhipped Cros...</td>\n",
       "      <td>Incisive Pass +</td>\n",
       "      <td>9</td>\n",
       "      <td>2024-03-27</td>\n",
       "      <td>Manchester City</td>\n",
       "      <td>2015.0</td>\n",
       "      <td>2025.0</td>\n",
       "    </tr>\n",
       "    <tr>\n",
       "      <th>3</th>\n",
       "      <td>231866</td>\n",
       "      <td>240034</td>\n",
       "      <td>Rodrigo Hernandez Cascante</td>\n",
       "      <td>27</td>\n",
       "      <td>90</td>\n",
       "      <td>91</td>\n",
       "      <td>Manchester City2019 ~ 2027</td>\n",
       "      <td>191</td>\n",
       "      <td>82</td>\n",
       "      <td>Right</td>\n",
       "      <td>...</td>\n",
       "      <td>86</td>\n",
       "      <td>85</td>\n",
       "      <td>NaN</td>\n",
       "      <td>Long Ball PassBruiserAerialLong Shot Taker (CP...</td>\n",
       "      <td>Power Shot +</td>\n",
       "      <td>6</td>\n",
       "      <td>2024-03-27</td>\n",
       "      <td>Manchester City</td>\n",
       "      <td>2019.0</td>\n",
       "      <td>2027.0</td>\n",
       "    </tr>\n",
       "    <tr>\n",
       "      <th>4</th>\n",
       "      <td>202126</td>\n",
       "      <td>240034</td>\n",
       "      <td>Harry Kane</td>\n",
       "      <td>29</td>\n",
       "      <td>90</td>\n",
       "      <td>90</td>\n",
       "      <td>FC Bayern München2023 ~ 2027</td>\n",
       "      <td>188</td>\n",
       "      <td>85</td>\n",
       "      <td>Right</td>\n",
       "      <td>...</td>\n",
       "      <td>49</td>\n",
       "      <td>83</td>\n",
       "      <td>NaN</td>\n",
       "      <td>Long Ball PassFirst TouchTrivelaLong Shot Take...</td>\n",
       "      <td>Incisive Pass +</td>\n",
       "      <td>5</td>\n",
       "      <td>2024-03-27</td>\n",
       "      <td>nchen</td>\n",
       "      <td>2023.0</td>\n",
       "      <td>2027.0</td>\n",
       "    </tr>\n",
       "  </tbody>\n",
       "</table>\n",
       "<p>5 rows × 82 columns</p>\n",
       "</div>"
      ],
      "text/plain": [
       "       ID  date_id                 player_name  Age Overall rating Potential  \\\n",
       "0  239085   240034              Erling Haaland   22             91        94   \n",
       "1  231747   240034               Kylian Mbappe   24             91        94   \n",
       "2  192985   240034             Kevin De Bruyne   32             91        91   \n",
       "3  231866   240034  Rodrigo Hernandez Cascante   27             90        91   \n",
       "4  202126   240034                  Harry Kane   29             90        90   \n",
       "\n",
       "                             name  Height  Weight   foot  ...  \\\n",
       "0      Manchester City2022 ~ 2027     195      94   Left  ...   \n",
       "1  Paris Saint Germain2018 ~ 2024     182      75  Right  ...   \n",
       "2      Manchester City2015 ~ 2025     181      75  Right  ...   \n",
       "3      Manchester City2019 ~ 2027     191      82  Right  ...   \n",
       "4    FC Bayern München2023 ~ 2027     188      85  Right  ...   \n",
       "\n",
       "   Defending / Pace Physical / Positioning  Traits  \\\n",
       "0                45                     88     NaN   \n",
       "1                36                     78     NaN   \n",
       "2                65                     78     NaN   \n",
       "3                86                     85     NaN   \n",
       "4                49                     83     NaN   \n",
       "\n",
       "                                          PlayStyles     PlayStyles +  \\\n",
       "0                             Power HeaderQuick Step      Acrobatic +   \n",
       "1  Finesse ShotRapidFlairTrivelaAcrobaticSolid Pl...     Quick Step +   \n",
       "2  Dead BallPinged PassLong Ball PassWhipped Cros...  Incisive Pass +   \n",
       "3  Long Ball PassBruiserAerialLong Shot Taker (CP...     Power Shot +   \n",
       "4  Long Ball PassFirst TouchTrivelaLong Shot Take...  Incisive Pass +   \n",
       "\n",
       "  Number of playstyles        date            club_name  start_year end_year  \n",
       "0                    3  2024-03-27      Manchester City      2022.0   2027.0  \n",
       "1                    7  2024-03-27  Paris Saint Germain      2018.0   2024.0  \n",
       "2                    9  2024-03-27      Manchester City      2015.0   2025.0  \n",
       "3                    6  2024-03-27      Manchester City      2019.0   2027.0  \n",
       "4                    5  2024-03-27                nchen      2023.0   2027.0  \n",
       "\n",
       "[5 rows x 82 columns]"
      ]
     },
     "execution_count": 345,
     "metadata": {},
     "output_type": "execute_result"
    }
   ],
   "source": [
    "df.head()"
   ]
  },
  {
   "cell_type": "code",
   "execution_count": 346,
   "id": "f42e0052",
   "metadata": {},
   "outputs": [
    {
     "data": {
      "text/plain": [
       "Index(['ID', 'date_id', 'player_name', 'Age', 'Overall rating', 'Potential',\n",
       "       'name', 'Height', 'Weight', 'foot', 'Best overall', 'Best position',\n",
       "       'Growth', 'Joined', 'Loan date end', 'Value', 'Wage', 'Release clause',\n",
       "       'Total attacking', 'Crossing', 'Finishing', 'Heading accuracy',\n",
       "       'Short passing', 'Volleys', 'Total skill', 'Dribbling', 'Curve',\n",
       "       'FK Accuracy', 'Long passing', 'Ball control', 'Total movement',\n",
       "       'Acceleration', 'Sprint speed', 'Agility', 'Reactions', 'Balance',\n",
       "       'Total power', 'Shot power', 'Jumping', 'Stamina', 'Strength',\n",
       "       'Long shots', 'Total mentality', 'Aggression', 'Interceptions',\n",
       "       'Att. Position', 'Vision', 'Penalties', 'Composure', 'Total defending',\n",
       "       'Defensive awareness', 'Standing tackle', 'Sliding tackle',\n",
       "       'Total goalkeeping', 'GK Diving', 'GK Handling', 'GK Kicking',\n",
       "       'GK Positioning', 'GK Reflexes', 'Total stats', 'Base stats',\n",
       "       'Weak foot', 'Skill moves', 'Attacking work rate',\n",
       "       'Defensive work rate', 'International reputation', 'Body type',\n",
       "       'Real face', 'Pace / Diving', 'Shooting / Handling',\n",
       "       'Passing / Kicking', 'Dribbling / Reflexes', 'Defending / Pace',\n",
       "       'Physical / Positioning', 'Traits', 'PlayStyles', 'PlayStyles +',\n",
       "       'Number of playstyles', 'date', 'club_name', 'start_year', 'end_year'],\n",
       "      dtype='object')"
      ]
     },
     "execution_count": 346,
     "metadata": {},
     "output_type": "execute_result"
    }
   ],
   "source": [
    "df.columns"
   ]
  },
  {
   "cell_type": "code",
   "execution_count": 347,
   "id": "3fb09381",
   "metadata": {},
   "outputs": [
    {
     "name": "stdout",
     "output_type": "stream",
     "text": [
      "<class 'pandas.core.frame.DataFrame'>\n",
      "RangeIndex: 353198 entries, 0 to 353197\n",
      "Data columns (total 82 columns):\n",
      " #   Column                    Non-Null Count   Dtype  \n",
      "---  ------                    --------------   -----  \n",
      " 0   ID                        353198 non-null  int64  \n",
      " 1   date_id                   353198 non-null  int64  \n",
      " 2   player_name               353198 non-null  object \n",
      " 3   Age                       353198 non-null  int64  \n",
      " 4   Overall rating            353198 non-null  object \n",
      " 5   Potential                 353198 non-null  object \n",
      " 6   name                      353198 non-null  object \n",
      " 7   Height                    353198 non-null  int64  \n",
      " 8   Weight                    353198 non-null  int64  \n",
      " 9   foot                      353198 non-null  object \n",
      " 10  Best overall              353198 non-null  int64  \n",
      " 11  Best position             353198 non-null  object \n",
      " 12  Growth                    353198 non-null  int64  \n",
      " 13  Joined                    353198 non-null  object \n",
      " 14  Loan date end             28471 non-null   object \n",
      " 15  Value                     353198 non-null  object \n",
      " 16  Wage                      353198 non-null  object \n",
      " 17  Release clause            353198 non-null  object \n",
      " 18  Total attacking           353198 non-null  int64  \n",
      " 19  Crossing                  353198 non-null  object \n",
      " 20  Finishing                 353198 non-null  object \n",
      " 21  Heading accuracy          353198 non-null  object \n",
      " 22  Short passing             353198 non-null  object \n",
      " 23  Volleys                   353198 non-null  object \n",
      " 24  Total skill               353198 non-null  int64  \n",
      " 25  Dribbling                 353198 non-null  object \n",
      " 26  Curve                     353198 non-null  object \n",
      " 27  FK Accuracy               353198 non-null  object \n",
      " 28  Long passing              353198 non-null  object \n",
      " 29  Ball control              353198 non-null  object \n",
      " 30  Total movement            353198 non-null  int64  \n",
      " 31  Acceleration              353198 non-null  object \n",
      " 32  Sprint speed              353198 non-null  object \n",
      " 33  Agility                   353198 non-null  object \n",
      " 34  Reactions                 353198 non-null  object \n",
      " 35  Balance                   353198 non-null  object \n",
      " 36  Total power               353198 non-null  int64  \n",
      " 37  Shot power                353198 non-null  object \n",
      " 38  Jumping                   353198 non-null  object \n",
      " 39  Stamina                   353198 non-null  object \n",
      " 40  Strength                  353198 non-null  object \n",
      " 41  Long shots                353198 non-null  object \n",
      " 42  Total mentality           353198 non-null  int64  \n",
      " 43  Aggression                353198 non-null  object \n",
      " 44  Interceptions             353198 non-null  object \n",
      " 45  Att. Position             353198 non-null  object \n",
      " 46  Vision                    353198 non-null  object \n",
      " 47  Penalties                 353198 non-null  object \n",
      " 48  Composure                 353198 non-null  object \n",
      " 49  Total defending           353198 non-null  int64  \n",
      " 50  Defensive awareness       353198 non-null  object \n",
      " 51  Standing tackle           353198 non-null  object \n",
      " 52  Sliding tackle            353198 non-null  object \n",
      " 53  Total goalkeeping         353198 non-null  int64  \n",
      " 54  GK Diving                 353198 non-null  object \n",
      " 55  GK Handling               353198 non-null  object \n",
      " 56  GK Kicking                353198 non-null  object \n",
      " 57  GK Positioning            353198 non-null  object \n",
      " 58  GK Reflexes               353198 non-null  object \n",
      " 59  Total stats               353198 non-null  int64  \n",
      " 60  Base stats                353198 non-null  int64  \n",
      " 61  Weak foot                 353198 non-null  int64  \n",
      " 62  Skill moves               353198 non-null  int64  \n",
      " 63  Attacking work rate       353198 non-null  object \n",
      " 64  Defensive work rate       353198 non-null  object \n",
      " 65  International reputation  353198 non-null  int64  \n",
      " 66  Body type                 353198 non-null  object \n",
      " 67  Real face                 353198 non-null  object \n",
      " 68  Pace / Diving             353198 non-null  int64  \n",
      " 69  Shooting / Handling       353198 non-null  int64  \n",
      " 70  Passing / Kicking         353198 non-null  int64  \n",
      " 71  Dribbling / Reflexes      353198 non-null  int64  \n",
      " 72  Defending / Pace          353198 non-null  int64  \n",
      " 73  Physical / Positioning    353198 non-null  int64  \n",
      " 74  Traits                    0 non-null       float64\n",
      " 75  PlayStyles                188678 non-null  object \n",
      " 76  PlayStyles +              1910 non-null    object \n",
      " 77  Number of playstyles      353198 non-null  int64  \n",
      " 78  date                      353198 non-null  object \n",
      " 79  club_name                 345359 non-null  object \n",
      " 80  start_year                322944 non-null  float64\n",
      " 81  end_year                  322944 non-null  float64\n",
      "dtypes: float64(3), int64(26), object(53)\n",
      "memory usage: 221.0+ MB\n"
     ]
    }
   ],
   "source": [
    "df.info()"
   ]
  },
  {
   "cell_type": "code",
   "execution_count": 348,
   "id": "17d92624",
   "metadata": {},
   "outputs": [],
   "source": [
    "df.drop(['player_name','date_id'],axis=1,inplace=True)"
   ]
  },
  {
   "cell_type": "code",
   "execution_count": 349,
   "id": "04799003",
   "metadata": {},
   "outputs": [
    {
     "data": {
      "text/plain": [
       "array(['91', '90', '89', '88', '87', '87+1', '86', '85', '85+1', '84',\n",
       "       '84-1', '83', '83+2', '83-1', '82', '82+1', '82-1', '81', '81+1',\n",
       "       '80+1', '80', '79', '79+1', '79-1', '78+1', '78', '78-1', '77',\n",
       "       '77+1', '76', '76+2', '76-1', '76+1', '75', '75+1', '75-1', '74',\n",
       "       '74+1', '73', '73+1', '73+2', '72', '72-1', '72+2', '72+1', '71',\n",
       "       '71-1', '71+1', '71+2', '70', '70-1', '70+1', '70+2', '69', '69-1',\n",
       "       '69+1', '69+2', '68', '68+2', '68+1', '68-1', '67', '67+3', '67+4',\n",
       "       '67+1', '66', '66+2', '66+1', '66-1', '66+3', '65', '65-1', '65+1',\n",
       "       '65+2', '65+3', '64', '64-1', '64+1', '64+2', '64-2', '63', '63+2',\n",
       "       '63+1', '63-1', '62', '62+1', '62-1', '62+3', '62+2', '61', '61+1',\n",
       "       '61-1', '61+4', '60', '60-1', '60+1', '59', '59+1', '58', '58+2',\n",
       "       '58-1', '58+1', '57', '57+2', '57+1', '56', '55', '54', '54+1',\n",
       "       '53', '53+1', '52', '52+1', '52+2', '51', '50', '50+2', '49', '48',\n",
       "       '47', 68, 67, 66, 65, 64, 63, 62, 61, 60, 59, 58, 57, 56, 55, 54,\n",
       "       53, 52, 51, 50, 49, 48, 47, 91, 90, 89, 88, 87, 86, 85, 84, 83, 82,\n",
       "       81, 80, 79, 78, 77, 76, 75, 74, 73, 72, 71, 70, 69, '88-1', '86+1',\n",
       "       '86-1', '85-1', '84+1', '83+1', '80+2', '80-1', '78+3', '77-1',\n",
       "       '77+2', '76-2', '75+2', '75-2', '74+2', '74-1', '74-2', '73-1',\n",
       "       '73-2', '72-2', '72+3', '71-2', '70-2', '70+3', '69-2', '69+3',\n",
       "       '68+8', '68-2', '67+2', '67-1', '67+8', '66-2', '65+11', '65-2',\n",
       "       '64-3', '64+4', '63-2', '63+3', '63+4', '63-3', '62+10', '62-2',\n",
       "       '61+5', '61+2', '61-3', '61-2', '60-2', '60+2', '60+4', '59+2',\n",
       "       '59-1', '59-3', '59-2', '58-2', '57-1', '57-2', '57+3', '57+6',\n",
       "       '57+4', '56+1', '56+2', '56-2', '56-1', '55-2', '55+1', '55-1',\n",
       "       '54+2', '54-1', '53+2', '51+2', '50-1', '49+1', '81-1', '81+2',\n",
       "       '74+3', '73+3', '68+3', '67-2', '65+4', '55+2', '53-1', '52-1',\n",
       "       '51+1', '51-1', '49+2', '49-1', '47-1', '90+1', '68+19', '62+4',\n",
       "       '61+3', '61+16', '61+12', '60+10', '60+11', '60+8', '59+9', '59+6',\n",
       "       '58+10', '58+3', '57+7', '55-3', '55+6', '54+5', '54-2', '53+5',\n",
       "       '53+3', '52+3', '49-2', '48+1', '78+2', '68+4', '64+3', '55+4',\n",
       "       '50+1', '45', '59+3', '88+1', '66+4', '62+5', '53-2', '51-2',\n",
       "       '50-2', '80-2', '79+2', '79+3', '78-2', '60+3', '59+5', '59+4',\n",
       "       '58+4', '56+3', '56+5', '55+3', '52-2', '71+3'], dtype=object)"
      ]
     },
     "execution_count": 349,
     "metadata": {},
     "output_type": "execute_result"
    }
   ],
   "source": [
    "df['Overall rating'].unique()\n",
    "\n"
   ]
  },
  {
   "cell_type": "code",
   "execution_count": 350,
   "id": "765d0604",
   "metadata": {},
   "outputs": [
    {
     "data": {
      "text/html": [
       "<div>\n",
       "<style scoped>\n",
       "    .dataframe tbody tr th:only-of-type {\n",
       "        vertical-align: middle;\n",
       "    }\n",
       "\n",
       "    .dataframe tbody tr th {\n",
       "        vertical-align: top;\n",
       "    }\n",
       "\n",
       "    .dataframe thead th {\n",
       "        text-align: right;\n",
       "    }\n",
       "</style>\n",
       "<table border=\"1\" class=\"dataframe\">\n",
       "  <thead>\n",
       "    <tr style=\"text-align: right;\">\n",
       "      <th></th>\n",
       "      <th>ID</th>\n",
       "      <th>Age</th>\n",
       "      <th>Overall rating</th>\n",
       "      <th>Potential</th>\n",
       "      <th>name</th>\n",
       "      <th>Height</th>\n",
       "      <th>Weight</th>\n",
       "      <th>foot</th>\n",
       "      <th>Best overall</th>\n",
       "      <th>Best position</th>\n",
       "      <th>...</th>\n",
       "      <th>Defending / Pace</th>\n",
       "      <th>Physical / Positioning</th>\n",
       "      <th>Traits</th>\n",
       "      <th>PlayStyles</th>\n",
       "      <th>PlayStyles +</th>\n",
       "      <th>Number of playstyles</th>\n",
       "      <th>date</th>\n",
       "      <th>club_name</th>\n",
       "      <th>start_year</th>\n",
       "      <th>end_year</th>\n",
       "    </tr>\n",
       "  </thead>\n",
       "  <tbody>\n",
       "    <tr>\n",
       "      <th>0</th>\n",
       "      <td>239085</td>\n",
       "      <td>22</td>\n",
       "      <td>91</td>\n",
       "      <td>94</td>\n",
       "      <td>Manchester City2022 ~ 2027</td>\n",
       "      <td>195</td>\n",
       "      <td>94</td>\n",
       "      <td>Left</td>\n",
       "      <td>93</td>\n",
       "      <td>/players?pn=25</td>\n",
       "      <td>...</td>\n",
       "      <td>45</td>\n",
       "      <td>88</td>\n",
       "      <td>NaN</td>\n",
       "      <td>Power HeaderQuick Step</td>\n",
       "      <td>Acrobatic +</td>\n",
       "      <td>3</td>\n",
       "      <td>2024-03-27</td>\n",
       "      <td>Manchester City</td>\n",
       "      <td>2022.0</td>\n",
       "      <td>2027.0</td>\n",
       "    </tr>\n",
       "    <tr>\n",
       "      <th>1</th>\n",
       "      <td>231747</td>\n",
       "      <td>24</td>\n",
       "      <td>91</td>\n",
       "      <td>94</td>\n",
       "      <td>Paris Saint Germain2018 ~ 2024</td>\n",
       "      <td>182</td>\n",
       "      <td>75</td>\n",
       "      <td>Right</td>\n",
       "      <td>93</td>\n",
       "      <td>/players?pn=25</td>\n",
       "      <td>...</td>\n",
       "      <td>36</td>\n",
       "      <td>78</td>\n",
       "      <td>NaN</td>\n",
       "      <td>Finesse ShotRapidFlairTrivelaAcrobaticSolid Pl...</td>\n",
       "      <td>Quick Step +</td>\n",
       "      <td>7</td>\n",
       "      <td>2024-03-27</td>\n",
       "      <td>Paris Saint Germain</td>\n",
       "      <td>2018.0</td>\n",
       "      <td>2024.0</td>\n",
       "    </tr>\n",
       "    <tr>\n",
       "      <th>2</th>\n",
       "      <td>192985</td>\n",
       "      <td>32</td>\n",
       "      <td>91</td>\n",
       "      <td>91</td>\n",
       "      <td>Manchester City2015 ~ 2025</td>\n",
       "      <td>181</td>\n",
       "      <td>75</td>\n",
       "      <td>Right</td>\n",
       "      <td>91</td>\n",
       "      <td>/players?pn=14</td>\n",
       "      <td>...</td>\n",
       "      <td>65</td>\n",
       "      <td>78</td>\n",
       "      <td>NaN</td>\n",
       "      <td>Dead BallPinged PassLong Ball PassWhipped Cros...</td>\n",
       "      <td>Incisive Pass +</td>\n",
       "      <td>9</td>\n",
       "      <td>2024-03-27</td>\n",
       "      <td>Manchester City</td>\n",
       "      <td>2015.0</td>\n",
       "      <td>2025.0</td>\n",
       "    </tr>\n",
       "    <tr>\n",
       "      <th>3</th>\n",
       "      <td>231866</td>\n",
       "      <td>27</td>\n",
       "      <td>90</td>\n",
       "      <td>91</td>\n",
       "      <td>Manchester City2019 ~ 2027</td>\n",
       "      <td>191</td>\n",
       "      <td>82</td>\n",
       "      <td>Right</td>\n",
       "      <td>90</td>\n",
       "      <td>/players?pn=10</td>\n",
       "      <td>...</td>\n",
       "      <td>86</td>\n",
       "      <td>85</td>\n",
       "      <td>NaN</td>\n",
       "      <td>Long Ball PassBruiserAerialLong Shot Taker (CP...</td>\n",
       "      <td>Power Shot +</td>\n",
       "      <td>6</td>\n",
       "      <td>2024-03-27</td>\n",
       "      <td>Manchester City</td>\n",
       "      <td>2019.0</td>\n",
       "      <td>2027.0</td>\n",
       "    </tr>\n",
       "    <tr>\n",
       "      <th>4</th>\n",
       "      <td>202126</td>\n",
       "      <td>29</td>\n",
       "      <td>90</td>\n",
       "      <td>90</td>\n",
       "      <td>FC Bayern München2023 ~ 2027</td>\n",
       "      <td>188</td>\n",
       "      <td>85</td>\n",
       "      <td>Right</td>\n",
       "      <td>90</td>\n",
       "      <td>/players?pn=25</td>\n",
       "      <td>...</td>\n",
       "      <td>49</td>\n",
       "      <td>83</td>\n",
       "      <td>NaN</td>\n",
       "      <td>Long Ball PassFirst TouchTrivelaLong Shot Take...</td>\n",
       "      <td>Incisive Pass +</td>\n",
       "      <td>5</td>\n",
       "      <td>2024-03-27</td>\n",
       "      <td>nchen</td>\n",
       "      <td>2023.0</td>\n",
       "      <td>2027.0</td>\n",
       "    </tr>\n",
       "  </tbody>\n",
       "</table>\n",
       "<p>5 rows × 80 columns</p>\n",
       "</div>"
      ],
      "text/plain": [
       "       ID  Age Overall rating Potential                            name  \\\n",
       "0  239085   22             91        94      Manchester City2022 ~ 2027   \n",
       "1  231747   24             91        94  Paris Saint Germain2018 ~ 2024   \n",
       "2  192985   32             91        91      Manchester City2015 ~ 2025   \n",
       "3  231866   27             90        91      Manchester City2019 ~ 2027   \n",
       "4  202126   29             90        90    FC Bayern München2023 ~ 2027   \n",
       "\n",
       "   Height  Weight   foot  Best overall   Best position  ...  Defending / Pace  \\\n",
       "0     195      94   Left            93  /players?pn=25  ...                45   \n",
       "1     182      75  Right            93  /players?pn=25  ...                36   \n",
       "2     181      75  Right            91  /players?pn=14  ...                65   \n",
       "3     191      82  Right            90  /players?pn=10  ...                86   \n",
       "4     188      85  Right            90  /players?pn=25  ...                49   \n",
       "\n",
       "  Physical / Positioning Traits  \\\n",
       "0                     88    NaN   \n",
       "1                     78    NaN   \n",
       "2                     78    NaN   \n",
       "3                     85    NaN   \n",
       "4                     83    NaN   \n",
       "\n",
       "                                          PlayStyles     PlayStyles +  \\\n",
       "0                             Power HeaderQuick Step      Acrobatic +   \n",
       "1  Finesse ShotRapidFlairTrivelaAcrobaticSolid Pl...     Quick Step +   \n",
       "2  Dead BallPinged PassLong Ball PassWhipped Cros...  Incisive Pass +   \n",
       "3  Long Ball PassBruiserAerialLong Shot Taker (CP...     Power Shot +   \n",
       "4  Long Ball PassFirst TouchTrivelaLong Shot Take...  Incisive Pass +   \n",
       "\n",
       "  Number of playstyles        date            club_name start_year end_year  \n",
       "0                    3  2024-03-27      Manchester City     2022.0   2027.0  \n",
       "1                    7  2024-03-27  Paris Saint Germain     2018.0   2024.0  \n",
       "2                    9  2024-03-27      Manchester City     2015.0   2025.0  \n",
       "3                    6  2024-03-27      Manchester City     2019.0   2027.0  \n",
       "4                    5  2024-03-27                nchen     2023.0   2027.0  \n",
       "\n",
       "[5 rows x 80 columns]"
      ]
     },
     "execution_count": 350,
     "metadata": {},
     "output_type": "execute_result"
    }
   ],
   "source": [
    "df.head()"
   ]
  },
  {
   "cell_type": "code",
   "execution_count": 351,
   "id": "9bfc9165",
   "metadata": {},
   "outputs": [
    {
     "data": {
      "text/html": [
       "<div>\n",
       "<style scoped>\n",
       "    .dataframe tbody tr th:only-of-type {\n",
       "        vertical-align: middle;\n",
       "    }\n",
       "\n",
       "    .dataframe tbody tr th {\n",
       "        vertical-align: top;\n",
       "    }\n",
       "\n",
       "    .dataframe thead th {\n",
       "        text-align: right;\n",
       "    }\n",
       "</style>\n",
       "<table border=\"1\" class=\"dataframe\">\n",
       "  <thead>\n",
       "    <tr style=\"text-align: right;\">\n",
       "      <th></th>\n",
       "      <th>ID</th>\n",
       "      <th>Age</th>\n",
       "      <th>Overall rating</th>\n",
       "      <th>Potential</th>\n",
       "      <th>name</th>\n",
       "      <th>Height</th>\n",
       "      <th>Weight</th>\n",
       "      <th>foot</th>\n",
       "      <th>Best overall</th>\n",
       "      <th>Best position</th>\n",
       "      <th>...</th>\n",
       "      <th>Defending / Pace</th>\n",
       "      <th>Physical / Positioning</th>\n",
       "      <th>Traits</th>\n",
       "      <th>PlayStyles</th>\n",
       "      <th>PlayStyles +</th>\n",
       "      <th>Number of playstyles</th>\n",
       "      <th>date</th>\n",
       "      <th>club_name</th>\n",
       "      <th>start_year</th>\n",
       "      <th>end_year</th>\n",
       "    </tr>\n",
       "  </thead>\n",
       "  <tbody>\n",
       "    <tr>\n",
       "      <th>353193</th>\n",
       "      <td>277344</td>\n",
       "      <td>18</td>\n",
       "      <td>47</td>\n",
       "      <td>62</td>\n",
       "      <td>Cork City2023 ~ 2028</td>\n",
       "      <td>185</td>\n",
       "      <td>75</td>\n",
       "      <td>Right</td>\n",
       "      <td>51</td>\n",
       "      <td>/players?pn=14</td>\n",
       "      <td>...</td>\n",
       "      <td>41</td>\n",
       "      <td>59</td>\n",
       "      <td>NaN</td>\n",
       "      <td>NaN</td>\n",
       "      <td>NaN</td>\n",
       "      <td>0</td>\n",
       "      <td>2024-05-07</td>\n",
       "      <td>Cork City</td>\n",
       "      <td>2023.0</td>\n",
       "      <td>2028.0</td>\n",
       "    </tr>\n",
       "    <tr>\n",
       "      <th>353194</th>\n",
       "      <td>272761</td>\n",
       "      <td>18</td>\n",
       "      <td>47</td>\n",
       "      <td>60</td>\n",
       "      <td>Shenzhen2022 ~ 2027</td>\n",
       "      <td>180</td>\n",
       "      <td>65</td>\n",
       "      <td>Right</td>\n",
       "      <td>49</td>\n",
       "      <td>/players?pn=5</td>\n",
       "      <td>...</td>\n",
       "      <td>50</td>\n",
       "      <td>46</td>\n",
       "      <td>NaN</td>\n",
       "      <td>NaN</td>\n",
       "      <td>NaN</td>\n",
       "      <td>0</td>\n",
       "      <td>2024-05-07</td>\n",
       "      <td>Shenzhen</td>\n",
       "      <td>2022.0</td>\n",
       "      <td>2027.0</td>\n",
       "    </tr>\n",
       "    <tr>\n",
       "      <th>353195</th>\n",
       "      <td>71064</td>\n",
       "      <td>17</td>\n",
       "      <td>47</td>\n",
       "      <td>60</td>\n",
       "      <td>Mumbai City2024 ~ 2027</td>\n",
       "      <td>177</td>\n",
       "      <td>70</td>\n",
       "      <td>Right</td>\n",
       "      <td>50</td>\n",
       "      <td>/players?pn=12</td>\n",
       "      <td>...</td>\n",
       "      <td>38</td>\n",
       "      <td>50</td>\n",
       "      <td>NaN</td>\n",
       "      <td>NaN</td>\n",
       "      <td>NaN</td>\n",
       "      <td>0</td>\n",
       "      <td>2024-05-07</td>\n",
       "      <td>Mumbai City</td>\n",
       "      <td>2024.0</td>\n",
       "      <td>2027.0</td>\n",
       "    </tr>\n",
       "    <tr>\n",
       "      <th>353196</th>\n",
       "      <td>269541</td>\n",
       "      <td>22</td>\n",
       "      <td>47</td>\n",
       "      <td>53</td>\n",
       "      <td>Zhejiang2022 ~ 2028</td>\n",
       "      <td>182</td>\n",
       "      <td>75</td>\n",
       "      <td>Right</td>\n",
       "      <td>48</td>\n",
       "      <td>/players?pn=10</td>\n",
       "      <td>...</td>\n",
       "      <td>43</td>\n",
       "      <td>51</td>\n",
       "      <td>NaN</td>\n",
       "      <td>NaN</td>\n",
       "      <td>NaN</td>\n",
       "      <td>0</td>\n",
       "      <td>2024-05-07</td>\n",
       "      <td>Zhejiang</td>\n",
       "      <td>2022.0</td>\n",
       "      <td>2028.0</td>\n",
       "    </tr>\n",
       "    <tr>\n",
       "      <th>353197</th>\n",
       "      <td>277493</td>\n",
       "      <td>20</td>\n",
       "      <td>47</td>\n",
       "      <td>60</td>\n",
       "      <td>NorthEast United2023 ~ 2025</td>\n",
       "      <td>165</td>\n",
       "      <td>64</td>\n",
       "      <td>Right</td>\n",
       "      <td>50</td>\n",
       "      <td>/players?pn=12</td>\n",
       "      <td>...</td>\n",
       "      <td>32</td>\n",
       "      <td>45</td>\n",
       "      <td>NaN</td>\n",
       "      <td>NaN</td>\n",
       "      <td>NaN</td>\n",
       "      <td>0</td>\n",
       "      <td>2024-05-07</td>\n",
       "      <td>NorthEast United</td>\n",
       "      <td>2023.0</td>\n",
       "      <td>2025.0</td>\n",
       "    </tr>\n",
       "  </tbody>\n",
       "</table>\n",
       "<p>5 rows × 80 columns</p>\n",
       "</div>"
      ],
      "text/plain": [
       "            ID  Age Overall rating Potential                         name  \\\n",
       "353193  277344   18             47        62         Cork City2023 ~ 2028   \n",
       "353194  272761   18             47        60          Shenzhen2022 ~ 2027   \n",
       "353195   71064   17             47        60       Mumbai City2024 ~ 2027   \n",
       "353196  269541   22             47        53          Zhejiang2022 ~ 2028   \n",
       "353197  277493   20             47        60  NorthEast United2023 ~ 2025   \n",
       "\n",
       "        Height  Weight   foot  Best overall   Best position  ...  \\\n",
       "353193     185      75  Right            51  /players?pn=14  ...   \n",
       "353194     180      65  Right            49   /players?pn=5  ...   \n",
       "353195     177      70  Right            50  /players?pn=12  ...   \n",
       "353196     182      75  Right            48  /players?pn=10  ...   \n",
       "353197     165      64  Right            50  /players?pn=12  ...   \n",
       "\n",
       "        Defending / Pace Physical / Positioning Traits PlayStyles  \\\n",
       "353193                41                     59    NaN        NaN   \n",
       "353194                50                     46    NaN        NaN   \n",
       "353195                38                     50    NaN        NaN   \n",
       "353196                43                     51    NaN        NaN   \n",
       "353197                32                     45    NaN        NaN   \n",
       "\n",
       "       PlayStyles + Number of playstyles        date         club_name  \\\n",
       "353193          NaN                    0  2024-05-07         Cork City   \n",
       "353194          NaN                    0  2024-05-07          Shenzhen   \n",
       "353195          NaN                    0  2024-05-07       Mumbai City   \n",
       "353196          NaN                    0  2024-05-07          Zhejiang   \n",
       "353197          NaN                    0  2024-05-07  NorthEast United   \n",
       "\n",
       "       start_year end_year  \n",
       "353193     2023.0   2028.0  \n",
       "353194     2022.0   2027.0  \n",
       "353195     2024.0   2027.0  \n",
       "353196     2022.0   2028.0  \n",
       "353197     2023.0   2025.0  \n",
       "\n",
       "[5 rows x 80 columns]"
      ]
     },
     "execution_count": 351,
     "metadata": {},
     "output_type": "execute_result"
    }
   ],
   "source": [
    "df.tail()"
   ]
  },
  {
   "cell_type": "code",
   "execution_count": 352,
   "id": "9405c9fc",
   "metadata": {},
   "outputs": [],
   "source": [
    "import numpy as np\n",
    "def BaseRating(val):\n",
    "    if pd.isna(val):  # handle NaN safely\n",
    "        return np.nan\n",
    "    val = str(val).strip()\n",
    "    if '+' in val:\n",
    "        base = val.split('+')[0]\n",
    "    elif '-' in val:\n",
    "        base = val.split('-')[0]\n",
    "    else:\n",
    "        base = val\n",
    "    return int(base)\n",
    "\n",
    "    "
   ]
  },
  {
   "cell_type": "code",
   "execution_count": 353,
   "id": "1816bd28",
   "metadata": {},
   "outputs": [],
   "source": [
    "df['BaseRating']=df['Overall rating'].apply(BaseRating)"
   ]
  },
  {
   "cell_type": "code",
   "execution_count": 354,
   "id": "0de34172",
   "metadata": {},
   "outputs": [
    {
     "data": {
      "text/plain": [
       "np.int64(0)"
      ]
     },
     "execution_count": 354,
     "metadata": {},
     "output_type": "execute_result"
    }
   ],
   "source": [
    "df['BaseRating'].isnull().sum()"
   ]
  },
  {
   "cell_type": "code",
   "execution_count": 355,
   "id": "9adbde2e",
   "metadata": {},
   "outputs": [
    {
     "data": {
      "text/plain": [
       "array([91, 90, 89, 88, 87, 86, 85, 84, 83, 82, 81, 80, 79, 78, 77, 76, 75,\n",
       "       74, 73, 72, 71, 70, 69, 68, 67, 66, 65, 64, 63, 62, 61, 60, 59, 58,\n",
       "       57, 56, 55, 54, 53, 52, 51, 50, 49, 48, 47, 45])"
      ]
     },
     "execution_count": 355,
     "metadata": {},
     "output_type": "execute_result"
    }
   ],
   "source": [
    "df['BaseRating'].unique()"
   ]
  },
  {
   "cell_type": "code",
   "execution_count": 356,
   "id": "171b8bbd",
   "metadata": {},
   "outputs": [],
   "source": [
    "\n",
    "def LiveForm(val):\n",
    "    if pd.isna(val):  # Handle NaN\n",
    "        return 0\n",
    "    val = str(val).strip()\n",
    "    if '+' in val:\n",
    "        return int(val.split('+')[1])\n",
    "    elif '-' in val:\n",
    "        return -int(val.split('-')[1])\n",
    "    else:\n",
    "        return 0\n"
   ]
  },
  {
   "cell_type": "code",
   "execution_count": 357,
   "id": "b1f1620d",
   "metadata": {},
   "outputs": [],
   "source": [
    "df['LiveForm']=df['Overall rating'].apply(LiveForm)"
   ]
  },
  {
   "cell_type": "code",
   "execution_count": 358,
   "id": "6e5385c7",
   "metadata": {},
   "outputs": [
    {
     "data": {
      "text/plain": [
       "array([ 0,  1, -1,  2,  3,  4, -2,  8, 11, -3, 10,  5,  6, 19, 16, 12,  9,\n",
       "        7])"
      ]
     },
     "execution_count": 358,
     "metadata": {},
     "output_type": "execute_result"
    }
   ],
   "source": [
    "df['LiveForm'].unique()\n"
   ]
  },
  {
   "cell_type": "code",
   "execution_count": 359,
   "id": "a8b1054d",
   "metadata": {},
   "outputs": [],
   "source": [
    "df.drop('Overall rating',axis=1,inplace=True)"
   ]
  },
  {
   "cell_type": "code",
   "execution_count": null,
   "id": "2724c1c2",
   "metadata": {},
   "outputs": [],
   "source": []
  },
  {
   "cell_type": "code",
   "execution_count": 360,
   "id": "0566c90c",
   "metadata": {},
   "outputs": [],
   "source": [
    "import numpy as np\n",
    "def Total(val):\n",
    "    if pd.isna(val):  # handle NaN safely\n",
    "        return np.nan\n",
    "    val = str(val).strip()\n",
    "    if '+' in val:\n",
    "        base, form = val.split('+')\n",
    "        return int(base)+int(form)\n",
    "    elif '-' in val:\n",
    "        base, change = val.split('-')\n",
    "        return int(base)-int(change)\n",
    "    else:\n",
    "        base = val\n",
    "    return int(base)"
   ]
  },
  {
   "cell_type": "code",
   "execution_count": 361,
   "id": "b6717628",
   "metadata": {},
   "outputs": [],
   "source": [
    "df['Potential']=df['Potential'].map(Total)"
   ]
  },
  {
   "cell_type": "code",
   "execution_count": 362,
   "id": "8ffb2b4b",
   "metadata": {},
   "outputs": [],
   "source": [
    "df['is_prodigy']=((df['Potential']>=90)& (df['Age']<=23)).astype(int)"
   ]
  },
  {
   "cell_type": "code",
   "execution_count": 363,
   "id": "39765269",
   "metadata": {},
   "outputs": [
    {
     "data": {
      "text/plain": [
       "is_prodigy\n",
       "0    352956\n",
       "1       242\n",
       "Name: count, dtype: int64"
      ]
     },
     "execution_count": 363,
     "metadata": {},
     "output_type": "execute_result"
    }
   ],
   "source": [
    "df['is_prodigy'].value_counts()"
   ]
  },
  {
   "cell_type": "code",
   "execution_count": 364,
   "id": "1fa249a6",
   "metadata": {},
   "outputs": [
    {
     "name": "stdout",
     "output_type": "stream",
     "text": [
      "<class 'pandas.core.frame.DataFrame'>\n",
      "RangeIndex: 353198 entries, 0 to 353197\n",
      "Data columns (total 82 columns):\n",
      " #   Column                    Non-Null Count   Dtype  \n",
      "---  ------                    --------------   -----  \n",
      " 0   ID                        353198 non-null  int64  \n",
      " 1   Age                       353198 non-null  int64  \n",
      " 2   Potential                 353198 non-null  int64  \n",
      " 3   name                      353198 non-null  object \n",
      " 4   Height                    353198 non-null  int64  \n",
      " 5   Weight                    353198 non-null  int64  \n",
      " 6   foot                      353198 non-null  object \n",
      " 7   Best overall              353198 non-null  int64  \n",
      " 8   Best position             353198 non-null  object \n",
      " 9   Growth                    353198 non-null  int64  \n",
      " 10  Joined                    353198 non-null  object \n",
      " 11  Loan date end             28471 non-null   object \n",
      " 12  Value                     353198 non-null  object \n",
      " 13  Wage                      353198 non-null  object \n",
      " 14  Release clause            353198 non-null  object \n",
      " 15  Total attacking           353198 non-null  int64  \n",
      " 16  Crossing                  353198 non-null  object \n",
      " 17  Finishing                 353198 non-null  object \n",
      " 18  Heading accuracy          353198 non-null  object \n",
      " 19  Short passing             353198 non-null  object \n",
      " 20  Volleys                   353198 non-null  object \n",
      " 21  Total skill               353198 non-null  int64  \n",
      " 22  Dribbling                 353198 non-null  object \n",
      " 23  Curve                     353198 non-null  object \n",
      " 24  FK Accuracy               353198 non-null  object \n",
      " 25  Long passing              353198 non-null  object \n",
      " 26  Ball control              353198 non-null  object \n",
      " 27  Total movement            353198 non-null  int64  \n",
      " 28  Acceleration              353198 non-null  object \n",
      " 29  Sprint speed              353198 non-null  object \n",
      " 30  Agility                   353198 non-null  object \n",
      " 31  Reactions                 353198 non-null  object \n",
      " 32  Balance                   353198 non-null  object \n",
      " 33  Total power               353198 non-null  int64  \n",
      " 34  Shot power                353198 non-null  object \n",
      " 35  Jumping                   353198 non-null  object \n",
      " 36  Stamina                   353198 non-null  object \n",
      " 37  Strength                  353198 non-null  object \n",
      " 38  Long shots                353198 non-null  object \n",
      " 39  Total mentality           353198 non-null  int64  \n",
      " 40  Aggression                353198 non-null  object \n",
      " 41  Interceptions             353198 non-null  object \n",
      " 42  Att. Position             353198 non-null  object \n",
      " 43  Vision                    353198 non-null  object \n",
      " 44  Penalties                 353198 non-null  object \n",
      " 45  Composure                 353198 non-null  object \n",
      " 46  Total defending           353198 non-null  int64  \n",
      " 47  Defensive awareness       353198 non-null  object \n",
      " 48  Standing tackle           353198 non-null  object \n",
      " 49  Sliding tackle            353198 non-null  object \n",
      " 50  Total goalkeeping         353198 non-null  int64  \n",
      " 51  GK Diving                 353198 non-null  object \n",
      " 52  GK Handling               353198 non-null  object \n",
      " 53  GK Kicking                353198 non-null  object \n",
      " 54  GK Positioning            353198 non-null  object \n",
      " 55  GK Reflexes               353198 non-null  object \n",
      " 56  Total stats               353198 non-null  int64  \n",
      " 57  Base stats                353198 non-null  int64  \n",
      " 58  Weak foot                 353198 non-null  int64  \n",
      " 59  Skill moves               353198 non-null  int64  \n",
      " 60  Attacking work rate       353198 non-null  object \n",
      " 61  Defensive work rate       353198 non-null  object \n",
      " 62  International reputation  353198 non-null  int64  \n",
      " 63  Body type                 353198 non-null  object \n",
      " 64  Real face                 353198 non-null  object \n",
      " 65  Pace / Diving             353198 non-null  int64  \n",
      " 66  Shooting / Handling       353198 non-null  int64  \n",
      " 67  Passing / Kicking         353198 non-null  int64  \n",
      " 68  Dribbling / Reflexes      353198 non-null  int64  \n",
      " 69  Defending / Pace          353198 non-null  int64  \n",
      " 70  Physical / Positioning    353198 non-null  int64  \n",
      " 71  Traits                    0 non-null       float64\n",
      " 72  PlayStyles                188678 non-null  object \n",
      " 73  PlayStyles +              1910 non-null    object \n",
      " 74  Number of playstyles      353198 non-null  int64  \n",
      " 75  date                      353198 non-null  object \n",
      " 76  club_name                 345359 non-null  object \n",
      " 77  start_year                322944 non-null  float64\n",
      " 78  end_year                  322944 non-null  float64\n",
      " 79  BaseRating                353198 non-null  int64  \n",
      " 80  LiveForm                  353198 non-null  int64  \n",
      " 81  is_prodigy                353198 non-null  int64  \n",
      "dtypes: float64(3), int64(29), object(50)\n",
      "memory usage: 221.0+ MB\n"
     ]
    }
   ],
   "source": [
    "df.info()"
   ]
  },
  {
   "cell_type": "code",
   "execution_count": 365,
   "id": "3d39bc0b",
   "metadata": {},
   "outputs": [],
   "source": [
    "df.drop('name',axis=1,inplace=True)"
   ]
  },
  {
   "cell_type": "code",
   "execution_count": 366,
   "id": "0e111808",
   "metadata": {},
   "outputs": [
    {
     "data": {
      "text/html": [
       "<div>\n",
       "<style scoped>\n",
       "    .dataframe tbody tr th:only-of-type {\n",
       "        vertical-align: middle;\n",
       "    }\n",
       "\n",
       "    .dataframe tbody tr th {\n",
       "        vertical-align: top;\n",
       "    }\n",
       "\n",
       "    .dataframe thead th {\n",
       "        text-align: right;\n",
       "    }\n",
       "</style>\n",
       "<table border=\"1\" class=\"dataframe\">\n",
       "  <thead>\n",
       "    <tr style=\"text-align: right;\">\n",
       "      <th></th>\n",
       "      <th>ID</th>\n",
       "      <th>Age</th>\n",
       "      <th>Potential</th>\n",
       "      <th>Height</th>\n",
       "      <th>Weight</th>\n",
       "      <th>foot</th>\n",
       "      <th>Best overall</th>\n",
       "      <th>Best position</th>\n",
       "      <th>Growth</th>\n",
       "      <th>Joined</th>\n",
       "      <th>...</th>\n",
       "      <th>PlayStyles</th>\n",
       "      <th>PlayStyles +</th>\n",
       "      <th>Number of playstyles</th>\n",
       "      <th>date</th>\n",
       "      <th>club_name</th>\n",
       "      <th>start_year</th>\n",
       "      <th>end_year</th>\n",
       "      <th>BaseRating</th>\n",
       "      <th>LiveForm</th>\n",
       "      <th>is_prodigy</th>\n",
       "    </tr>\n",
       "  </thead>\n",
       "  <tbody>\n",
       "    <tr>\n",
       "      <th>0</th>\n",
       "      <td>239085</td>\n",
       "      <td>22</td>\n",
       "      <td>94</td>\n",
       "      <td>195</td>\n",
       "      <td>94</td>\n",
       "      <td>Left</td>\n",
       "      <td>93</td>\n",
       "      <td>/players?pn=25</td>\n",
       "      <td>3</td>\n",
       "      <td>Jul 1, 2022</td>\n",
       "      <td>...</td>\n",
       "      <td>Power HeaderQuick Step</td>\n",
       "      <td>Acrobatic +</td>\n",
       "      <td>3</td>\n",
       "      <td>2024-03-27</td>\n",
       "      <td>Manchester City</td>\n",
       "      <td>2022.0</td>\n",
       "      <td>2027.0</td>\n",
       "      <td>91</td>\n",
       "      <td>0</td>\n",
       "      <td>1</td>\n",
       "    </tr>\n",
       "    <tr>\n",
       "      <th>1</th>\n",
       "      <td>231747</td>\n",
       "      <td>24</td>\n",
       "      <td>94</td>\n",
       "      <td>182</td>\n",
       "      <td>75</td>\n",
       "      <td>Right</td>\n",
       "      <td>93</td>\n",
       "      <td>/players?pn=25</td>\n",
       "      <td>3</td>\n",
       "      <td>Jul 1, 2018</td>\n",
       "      <td>...</td>\n",
       "      <td>Finesse ShotRapidFlairTrivelaAcrobaticSolid Pl...</td>\n",
       "      <td>Quick Step +</td>\n",
       "      <td>7</td>\n",
       "      <td>2024-03-27</td>\n",
       "      <td>Paris Saint Germain</td>\n",
       "      <td>2018.0</td>\n",
       "      <td>2024.0</td>\n",
       "      <td>91</td>\n",
       "      <td>0</td>\n",
       "      <td>0</td>\n",
       "    </tr>\n",
       "    <tr>\n",
       "      <th>2</th>\n",
       "      <td>192985</td>\n",
       "      <td>32</td>\n",
       "      <td>91</td>\n",
       "      <td>181</td>\n",
       "      <td>75</td>\n",
       "      <td>Right</td>\n",
       "      <td>91</td>\n",
       "      <td>/players?pn=14</td>\n",
       "      <td>0</td>\n",
       "      <td>Aug 30, 2015</td>\n",
       "      <td>...</td>\n",
       "      <td>Dead BallPinged PassLong Ball PassWhipped Cros...</td>\n",
       "      <td>Incisive Pass +</td>\n",
       "      <td>9</td>\n",
       "      <td>2024-03-27</td>\n",
       "      <td>Manchester City</td>\n",
       "      <td>2015.0</td>\n",
       "      <td>2025.0</td>\n",
       "      <td>91</td>\n",
       "      <td>0</td>\n",
       "      <td>0</td>\n",
       "    </tr>\n",
       "    <tr>\n",
       "      <th>3</th>\n",
       "      <td>231866</td>\n",
       "      <td>27</td>\n",
       "      <td>91</td>\n",
       "      <td>191</td>\n",
       "      <td>82</td>\n",
       "      <td>Right</td>\n",
       "      <td>90</td>\n",
       "      <td>/players?pn=10</td>\n",
       "      <td>1</td>\n",
       "      <td>Jul 4, 2019</td>\n",
       "      <td>...</td>\n",
       "      <td>Long Ball PassBruiserAerialLong Shot Taker (CP...</td>\n",
       "      <td>Power Shot +</td>\n",
       "      <td>6</td>\n",
       "      <td>2024-03-27</td>\n",
       "      <td>Manchester City</td>\n",
       "      <td>2019.0</td>\n",
       "      <td>2027.0</td>\n",
       "      <td>90</td>\n",
       "      <td>0</td>\n",
       "      <td>0</td>\n",
       "    </tr>\n",
       "    <tr>\n",
       "      <th>4</th>\n",
       "      <td>202126</td>\n",
       "      <td>29</td>\n",
       "      <td>90</td>\n",
       "      <td>188</td>\n",
       "      <td>85</td>\n",
       "      <td>Right</td>\n",
       "      <td>90</td>\n",
       "      <td>/players?pn=25</td>\n",
       "      <td>0</td>\n",
       "      <td>Aug 12, 2023</td>\n",
       "      <td>...</td>\n",
       "      <td>Long Ball PassFirst TouchTrivelaLong Shot Take...</td>\n",
       "      <td>Incisive Pass +</td>\n",
       "      <td>5</td>\n",
       "      <td>2024-03-27</td>\n",
       "      <td>nchen</td>\n",
       "      <td>2023.0</td>\n",
       "      <td>2027.0</td>\n",
       "      <td>90</td>\n",
       "      <td>0</td>\n",
       "      <td>0</td>\n",
       "    </tr>\n",
       "  </tbody>\n",
       "</table>\n",
       "<p>5 rows × 81 columns</p>\n",
       "</div>"
      ],
      "text/plain": [
       "       ID  Age  Potential  Height  Weight   foot  Best overall  \\\n",
       "0  239085   22         94     195      94   Left            93   \n",
       "1  231747   24         94     182      75  Right            93   \n",
       "2  192985   32         91     181      75  Right            91   \n",
       "3  231866   27         91     191      82  Right            90   \n",
       "4  202126   29         90     188      85  Right            90   \n",
       "\n",
       "    Best position  Growth        Joined  ...  \\\n",
       "0  /players?pn=25       3   Jul 1, 2022  ...   \n",
       "1  /players?pn=25       3   Jul 1, 2018  ...   \n",
       "2  /players?pn=14       0  Aug 30, 2015  ...   \n",
       "3  /players?pn=10       1   Jul 4, 2019  ...   \n",
       "4  /players?pn=25       0  Aug 12, 2023  ...   \n",
       "\n",
       "                                          PlayStyles     PlayStyles +  \\\n",
       "0                             Power HeaderQuick Step      Acrobatic +   \n",
       "1  Finesse ShotRapidFlairTrivelaAcrobaticSolid Pl...     Quick Step +   \n",
       "2  Dead BallPinged PassLong Ball PassWhipped Cros...  Incisive Pass +   \n",
       "3  Long Ball PassBruiserAerialLong Shot Taker (CP...     Power Shot +   \n",
       "4  Long Ball PassFirst TouchTrivelaLong Shot Take...  Incisive Pass +   \n",
       "\n",
       "  Number of playstyles        date            club_name start_year end_year  \\\n",
       "0                    3  2024-03-27      Manchester City     2022.0   2027.0   \n",
       "1                    7  2024-03-27  Paris Saint Germain     2018.0   2024.0   \n",
       "2                    9  2024-03-27      Manchester City     2015.0   2025.0   \n",
       "3                    6  2024-03-27      Manchester City     2019.0   2027.0   \n",
       "4                    5  2024-03-27                nchen     2023.0   2027.0   \n",
       "\n",
       "  BaseRating LiveForm is_prodigy  \n",
       "0         91        0          1  \n",
       "1         91        0          0  \n",
       "2         91        0          0  \n",
       "3         90        0          0  \n",
       "4         90        0          0  \n",
       "\n",
       "[5 rows x 81 columns]"
      ]
     },
     "execution_count": 366,
     "metadata": {},
     "output_type": "execute_result"
    }
   ],
   "source": [
    "df.head(5)"
   ]
  },
  {
   "cell_type": "code",
   "execution_count": 367,
   "id": "c3f54a37",
   "metadata": {},
   "outputs": [],
   "source": [
    "df.drop('Best position',axis=1,inplace=True)"
   ]
  },
  {
   "cell_type": "code",
   "execution_count": 368,
   "id": "f538c41b",
   "metadata": {},
   "outputs": [],
   "source": [
    "df['On_loan'] = df['Loan date end'].map(lambda x: 1 if pd.isna(x) else 0)\n"
   ]
  },
  {
   "cell_type": "code",
   "execution_count": 369,
   "id": "f70b37f5",
   "metadata": {},
   "outputs": [],
   "source": [
    "df['is_ageing star']=((df['Best overall']>=90)& (df['Age']>=30)).astype(int)"
   ]
  },
  {
   "cell_type": "code",
   "execution_count": 370,
   "id": "5a1b0c3d",
   "metadata": {},
   "outputs": [
    {
     "data": {
      "text/plain": [
       "Index(['ID', 'Age', 'Potential', 'Height', 'Weight', 'foot', 'Best overall',\n",
       "       'Growth', 'Joined', 'Loan date end', 'Value', 'Wage', 'Release clause',\n",
       "       'Total attacking', 'Crossing', 'Finishing', 'Heading accuracy',\n",
       "       'Short passing', 'Volleys', 'Total skill', 'Dribbling', 'Curve',\n",
       "       'FK Accuracy', 'Long passing', 'Ball control', 'Total movement',\n",
       "       'Acceleration', 'Sprint speed', 'Agility', 'Reactions', 'Balance',\n",
       "       'Total power', 'Shot power', 'Jumping', 'Stamina', 'Strength',\n",
       "       'Long shots', 'Total mentality', 'Aggression', 'Interceptions',\n",
       "       'Att. Position', 'Vision', 'Penalties', 'Composure', 'Total defending',\n",
       "       'Defensive awareness', 'Standing tackle', 'Sliding tackle',\n",
       "       'Total goalkeeping', 'GK Diving', 'GK Handling', 'GK Kicking',\n",
       "       'GK Positioning', 'GK Reflexes', 'Total stats', 'Base stats',\n",
       "       'Weak foot', 'Skill moves', 'Attacking work rate',\n",
       "       'Defensive work rate', 'International reputation', 'Body type',\n",
       "       'Real face', 'Pace / Diving', 'Shooting / Handling',\n",
       "       'Passing / Kicking', 'Dribbling / Reflexes', 'Defending / Pace',\n",
       "       'Physical / Positioning', 'Traits', 'PlayStyles', 'PlayStyles +',\n",
       "       'Number of playstyles', 'date', 'club_name', 'start_year', 'end_year',\n",
       "       'BaseRating', 'LiveForm', 'is_prodigy', 'On_loan', 'is_ageing star'],\n",
       "      dtype='object')"
      ]
     },
     "execution_count": 370,
     "metadata": {},
     "output_type": "execute_result"
    }
   ],
   "source": [
    "df.columns\n"
   ]
  },
  {
   "cell_type": "code",
   "execution_count": 371,
   "id": "7d396964",
   "metadata": {},
   "outputs": [],
   "source": [
    "df['is_baller']= ((df['Number of playstyles'] >= 5 )& (df['Skill moves']>=4)).astype(int)"
   ]
  },
  {
   "cell_type": "code",
   "execution_count": 372,
   "id": "5f4e325e",
   "metadata": {},
   "outputs": [],
   "source": [
    "df.drop(['Loan date end','Joined','PlayStyles','PlayStyles +','date'],axis=1,inplace=True)"
   ]
  },
  {
   "cell_type": "code",
   "execution_count": 373,
   "id": "4529c0ac",
   "metadata": {},
   "outputs": [],
   "source": [
    "df['ContractLength']=df['end_year']-df['start_year']"
   ]
  },
  {
   "cell_type": "code",
   "execution_count": 374,
   "id": "4c9e4cb1",
   "metadata": {},
   "outputs": [],
   "source": [
    "df['ContractExpiring']=(df['ContractLength']<2).astype(int)"
   ]
  },
  {
   "cell_type": "code",
   "execution_count": 375,
   "id": "12ec51b0",
   "metadata": {},
   "outputs": [
    {
     "data": {
      "text/plain": [
       "Index(['ID', 'Age', 'Potential', 'Height', 'Weight', 'foot', 'Best overall',\n",
       "       'Growth', 'Value', 'Wage', 'Release clause', 'Total attacking',\n",
       "       'Crossing', 'Finishing', 'Heading accuracy', 'Short passing', 'Volleys',\n",
       "       'Total skill', 'Dribbling', 'Curve', 'FK Accuracy', 'Long passing',\n",
       "       'Ball control', 'Total movement', 'Acceleration', 'Sprint speed',\n",
       "       'Agility', 'Reactions', 'Balance', 'Total power', 'Shot power',\n",
       "       'Jumping', 'Stamina', 'Strength', 'Long shots', 'Total mentality',\n",
       "       'Aggression', 'Interceptions', 'Att. Position', 'Vision', 'Penalties',\n",
       "       'Composure', 'Total defending', 'Defensive awareness',\n",
       "       'Standing tackle', 'Sliding tackle', 'Total goalkeeping', 'GK Diving',\n",
       "       'GK Handling', 'GK Kicking', 'GK Positioning', 'GK Reflexes',\n",
       "       'Total stats', 'Base stats', 'Weak foot', 'Skill moves',\n",
       "       'Attacking work rate', 'Defensive work rate',\n",
       "       'International reputation', 'Body type', 'Real face', 'Pace / Diving',\n",
       "       'Shooting / Handling', 'Passing / Kicking', 'Dribbling / Reflexes',\n",
       "       'Defending / Pace', 'Physical / Positioning', 'Traits',\n",
       "       'Number of playstyles', 'club_name', 'start_year', 'end_year',\n",
       "       'BaseRating', 'LiveForm', 'is_prodigy', 'On_loan', 'is_ageing star',\n",
       "       'is_baller', 'ContractLength', 'ContractExpiring'],\n",
       "      dtype='object')"
      ]
     },
     "execution_count": 375,
     "metadata": {},
     "output_type": "execute_result"
    }
   ],
   "source": [
    "df.columns"
   ]
  },
  {
   "cell_type": "code",
   "execution_count": 376,
   "id": "6a822efe",
   "metadata": {},
   "outputs": [],
   "source": [
    "df.drop(['ID','Body type', 'Real face','start_year','end_year','Traits','Pace / Diving',\n",
    "       'Shooting / Handling', 'Passing / Kicking', 'Dribbling / Reflexes',\n",
    "       'Defending / Pace', 'Physical / Positioning'],axis=1,inplace=True)"
   ]
  },
  {
   "cell_type": "code",
   "execution_count": 377,
   "id": "66cdbe10",
   "metadata": {},
   "outputs": [],
   "source": [
    "df.drop(['Crossing', 'Finishing', 'Heading accuracy', 'Short passing', 'Volleys', 'Dribbling', 'Curve', 'FK Accuracy', 'Long passing',\n",
    "       'Ball control','Acceleration', 'Sprint speed',\n",
    "       'Agility', 'Reactions', 'Balance','Shot power',\n",
    "       'Jumping', 'Stamina', 'Strength', 'Long shots','Aggression', 'Interceptions', 'Att. Position', 'Vision', 'Penalties',\n",
    "       'Composure','Defensive awareness',\n",
    "       'Standing tackle', 'Sliding tackle','GK Diving',\n",
    "       'GK Handling', 'GK Kicking', 'GK Positioning', 'GK Reflexes','Best overall',],axis=1,inplace=True)"
   ]
  },
  {
   "cell_type": "code",
   "execution_count": 378,
   "id": "ebabbb47",
   "metadata": {},
   "outputs": [],
   "source": [
    "df.drop('Base stats',axis=1,inplace=True)"
   ]
  },
  {
   "cell_type": "code",
   "execution_count": 379,
   "id": "d54cd42c",
   "metadata": {},
   "outputs": [
    {
     "name": "stderr",
     "output_type": "stream",
     "text": [
      "C:\\Users\\rocki\\AppData\\Local\\Temp\\ipykernel_5756\\2006380002.py:1: FutureWarning: Downcasting behavior in `replace` is deprecated and will be removed in a future version. To retain the old behavior, explicitly call `result.infer_objects(copy=False)`. To opt-in to the future behavior, set `pd.set_option('future.no_silent_downcasting', True)`\n",
      "  df['Attacking work rate']=df['Attacking work rate'].replace(['High','Medium','Low'],[2,1,0]).astype(int)\n"
     ]
    }
   ],
   "source": [
    "df['Attacking work rate']=df['Attacking work rate'].replace(['High','Medium','Low'],[2,1,0]).astype(int)"
   ]
  },
  {
   "cell_type": "code",
   "execution_count": 380,
   "id": "bdb6abfe",
   "metadata": {},
   "outputs": [
    {
     "name": "stderr",
     "output_type": "stream",
     "text": [
      "C:\\Users\\rocki\\AppData\\Local\\Temp\\ipykernel_5756\\917700010.py:1: FutureWarning: Downcasting behavior in `replace` is deprecated and will be removed in a future version. To retain the old behavior, explicitly call `result.infer_objects(copy=False)`. To opt-in to the future behavior, set `pd.set_option('future.no_silent_downcasting', True)`\n",
      "  df['Defensive work rate']=df['Defensive work rate'].replace(['High','Medium','Low'],[2,1,0]).astype(int)\n"
     ]
    }
   ],
   "source": [
    "df['Defensive work rate']=df['Defensive work rate'].replace(['High','Medium','Low'],[2,1,0]).astype(int)"
   ]
  },
  {
   "cell_type": "code",
   "execution_count": 381,
   "id": "9b37378b",
   "metadata": {},
   "outputs": [
    {
     "data": {
      "text/plain": [
       "Index(['Age', 'Potential', 'Height', 'Weight', 'foot', 'Growth', 'Value',\n",
       "       'Wage', 'Release clause', 'Total attacking', 'Total skill',\n",
       "       'Total movement', 'Total power', 'Total mentality', 'Total defending',\n",
       "       'Total goalkeeping', 'Total stats', 'Weak foot', 'Skill moves',\n",
       "       'Attacking work rate', 'Defensive work rate',\n",
       "       'International reputation', 'Number of playstyles', 'club_name',\n",
       "       'BaseRating', 'LiveForm', 'is_prodigy', 'On_loan', 'is_ageing star',\n",
       "       'is_baller', 'ContractLength', 'ContractExpiring'],\n",
       "      dtype='object')"
      ]
     },
     "execution_count": 381,
     "metadata": {},
     "output_type": "execute_result"
    }
   ],
   "source": [
    "df.columns"
   ]
  },
  {
   "cell_type": "code",
   "execution_count": 382,
   "id": "0eb6492b",
   "metadata": {},
   "outputs": [],
   "source": [
    "df['BMI'] = df['Weight'] / ((df['Height'] / 100) ** 2)\n"
   ]
  },
  {
   "cell_type": "code",
   "execution_count": 383,
   "id": "9214e8e8",
   "metadata": {},
   "outputs": [],
   "source": [
    "df.drop(['Height','Weight'],axis=1,inplace=True)"
   ]
  },
  {
   "cell_type": "code",
   "execution_count": 384,
   "id": "eaad2c19",
   "metadata": {},
   "outputs": [
    {
     "name": "stderr",
     "output_type": "stream",
     "text": [
      "C:\\Users\\rocki\\AppData\\Local\\Temp\\ipykernel_5756\\3225310287.py:1: FutureWarning: Downcasting behavior in `replace` is deprecated and will be removed in a future version. To retain the old behavior, explicitly call `result.infer_objects(copy=False)`. To opt-in to the future behavior, set `pd.set_option('future.no_silent_downcasting', True)`\n",
      "  df['foot']=df['foot'].replace(['Left','left','right','Right'],[0,0,1,1]).astype(int)\n"
     ]
    }
   ],
   "source": [
    "df['foot']=df['foot'].replace(['Left','left','right','Right'],[0,0,1,1]).astype(int)"
   ]
  },
  {
   "cell_type": "code",
   "execution_count": 385,
   "id": "69a00d0a",
   "metadata": {},
   "outputs": [
    {
     "name": "stdout",
     "output_type": "stream",
     "text": [
      "<class 'pandas.core.frame.DataFrame'>\n",
      "RangeIndex: 353198 entries, 0 to 353197\n",
      "Data columns (total 31 columns):\n",
      " #   Column                    Non-Null Count   Dtype  \n",
      "---  ------                    --------------   -----  \n",
      " 0   Age                       353198 non-null  int64  \n",
      " 1   Potential                 353198 non-null  int64  \n",
      " 2   foot                      353198 non-null  int64  \n",
      " 3   Growth                    353198 non-null  int64  \n",
      " 4   Value                     353198 non-null  object \n",
      " 5   Wage                      353198 non-null  object \n",
      " 6   Release clause            353198 non-null  object \n",
      " 7   Total attacking           353198 non-null  int64  \n",
      " 8   Total skill               353198 non-null  int64  \n",
      " 9   Total movement            353198 non-null  int64  \n",
      " 10  Total power               353198 non-null  int64  \n",
      " 11  Total mentality           353198 non-null  int64  \n",
      " 12  Total defending           353198 non-null  int64  \n",
      " 13  Total goalkeeping         353198 non-null  int64  \n",
      " 14  Total stats               353198 non-null  int64  \n",
      " 15  Weak foot                 353198 non-null  int64  \n",
      " 16  Skill moves               353198 non-null  int64  \n",
      " 17  Attacking work rate       353198 non-null  int64  \n",
      " 18  Defensive work rate       353198 non-null  int64  \n",
      " 19  International reputation  353198 non-null  int64  \n",
      " 20  Number of playstyles      353198 non-null  int64  \n",
      " 21  club_name                 345359 non-null  object \n",
      " 22  BaseRating                353198 non-null  int64  \n",
      " 23  LiveForm                  353198 non-null  int64  \n",
      " 24  is_prodigy                353198 non-null  int64  \n",
      " 25  On_loan                   353198 non-null  int64  \n",
      " 26  is_ageing star            353198 non-null  int64  \n",
      " 27  is_baller                 353198 non-null  int64  \n",
      " 28  ContractLength            322944 non-null  float64\n",
      " 29  ContractExpiring          353198 non-null  int64  \n",
      " 30  BMI                       353198 non-null  float64\n",
      "dtypes: float64(2), int64(25), object(4)\n",
      "memory usage: 83.5+ MB\n"
     ]
    }
   ],
   "source": [
    "df.info()"
   ]
  },
  {
   "cell_type": "code",
   "execution_count": 386,
   "id": "35d2a266",
   "metadata": {},
   "outputs": [],
   "source": [
    "objectcols=[x for x in df.columns if df[x].dtype=='O']"
   ]
  },
  {
   "cell_type": "code",
   "execution_count": 387,
   "id": "088b75d0",
   "metadata": {},
   "outputs": [
    {
     "data": {
      "text/plain": [
       "['Value', 'Wage', 'Release clause', 'club_name']"
      ]
     },
     "execution_count": 387,
     "metadata": {},
     "output_type": "execute_result"
    }
   ],
   "source": [
    "objectcols"
   ]
  },
  {
   "cell_type": "code",
   "execution_count": 388,
   "id": "1faaabf3",
   "metadata": {},
   "outputs": [
    {
     "data": {
      "text/html": [
       "<div>\n",
       "<style scoped>\n",
       "    .dataframe tbody tr th:only-of-type {\n",
       "        vertical-align: middle;\n",
       "    }\n",
       "\n",
       "    .dataframe tbody tr th {\n",
       "        vertical-align: top;\n",
       "    }\n",
       "\n",
       "    .dataframe thead th {\n",
       "        text-align: right;\n",
       "    }\n",
       "</style>\n",
       "<table border=\"1\" class=\"dataframe\">\n",
       "  <thead>\n",
       "    <tr style=\"text-align: right;\">\n",
       "      <th></th>\n",
       "      <th>Value</th>\n",
       "      <th>Wage</th>\n",
       "      <th>Release clause</th>\n",
       "      <th>club_name</th>\n",
       "    </tr>\n",
       "  </thead>\n",
       "  <tbody>\n",
       "    <tr>\n",
       "      <th>0</th>\n",
       "      <td>€185M</td>\n",
       "      <td>€340K</td>\n",
       "      <td>€356.1M</td>\n",
       "      <td>Manchester City</td>\n",
       "    </tr>\n",
       "    <tr>\n",
       "      <th>1</th>\n",
       "      <td>€181.5M</td>\n",
       "      <td>€230K</td>\n",
       "      <td>€349.4M</td>\n",
       "      <td>Paris Saint Germain</td>\n",
       "    </tr>\n",
       "    <tr>\n",
       "      <th>2</th>\n",
       "      <td>€103M</td>\n",
       "      <td>€350K</td>\n",
       "      <td>€190.6M</td>\n",
       "      <td>Manchester City</td>\n",
       "    </tr>\n",
       "    <tr>\n",
       "      <th>3</th>\n",
       "      <td>€122.5M</td>\n",
       "      <td>€260K</td>\n",
       "      <td>€235.8M</td>\n",
       "      <td>Manchester City</td>\n",
       "    </tr>\n",
       "    <tr>\n",
       "      <th>4</th>\n",
       "      <td>€119.5M</td>\n",
       "      <td>€170K</td>\n",
       "      <td>€197.2M</td>\n",
       "      <td>nchen</td>\n",
       "    </tr>\n",
       "    <tr>\n",
       "      <th>...</th>\n",
       "      <td>...</td>\n",
       "      <td>...</td>\n",
       "      <td>...</td>\n",
       "      <td>...</td>\n",
       "    </tr>\n",
       "    <tr>\n",
       "      <th>353193</th>\n",
       "      <td>€110K</td>\n",
       "      <td>€500</td>\n",
       "      <td>€239K</td>\n",
       "      <td>Cork City</td>\n",
       "    </tr>\n",
       "    <tr>\n",
       "      <th>353194</th>\n",
       "      <td>€100K</td>\n",
       "      <td>€500</td>\n",
       "      <td>€218K</td>\n",
       "      <td>Shenzhen</td>\n",
       "    </tr>\n",
       "    <tr>\n",
       "      <th>353195</th>\n",
       "      <td>€110K</td>\n",
       "      <td>€500</td>\n",
       "      <td>€217K</td>\n",
       "      <td>Mumbai City</td>\n",
       "    </tr>\n",
       "    <tr>\n",
       "      <th>353196</th>\n",
       "      <td>€70K</td>\n",
       "      <td>€1K</td>\n",
       "      <td>€123K</td>\n",
       "      <td>Zhejiang</td>\n",
       "    </tr>\n",
       "    <tr>\n",
       "      <th>353197</th>\n",
       "      <td>€110K</td>\n",
       "      <td>€500</td>\n",
       "      <td>€217K</td>\n",
       "      <td>NorthEast United</td>\n",
       "    </tr>\n",
       "  </tbody>\n",
       "</table>\n",
       "<p>353198 rows × 4 columns</p>\n",
       "</div>"
      ],
      "text/plain": [
       "          Value   Wage Release clause            club_name\n",
       "0         €185M  €340K        €356.1M      Manchester City\n",
       "1       €181.5M  €230K        €349.4M  Paris Saint Germain\n",
       "2         €103M  €350K        €190.6M      Manchester City\n",
       "3       €122.5M  €260K        €235.8M      Manchester City\n",
       "4       €119.5M  €170K        €197.2M                nchen\n",
       "...         ...    ...            ...                  ...\n",
       "353193    €110K   €500          €239K            Cork City\n",
       "353194    €100K   €500          €218K             Shenzhen\n",
       "353195    €110K   €500          €217K          Mumbai City\n",
       "353196     €70K    €1K          €123K             Zhejiang\n",
       "353197    €110K   €500          €217K     NorthEast United\n",
       "\n",
       "[353198 rows x 4 columns]"
      ]
     },
     "execution_count": 388,
     "metadata": {},
     "output_type": "execute_result"
    }
   ],
   "source": [
    "df[objectcols]"
   ]
  },
  {
   "cell_type": "code",
   "execution_count": 389,
   "id": "d1f352cc",
   "metadata": {},
   "outputs": [],
   "source": [
    "import re\n",
    "\n",
    "def parse_money(val):\n",
    "    if isinstance(val, str):\n",
    "        val = val.upper().strip()\n",
    "        num = re.sub(r'[^\\d.]', '', val)\n",
    "        if 'M' in val:\n",
    "            return float(num) * 1_000_000\n",
    "        elif 'K' in val:\n",
    "            return float(num) * 1_000\n",
    "        else:\n",
    "            return float(num)\n",
    "    return val\n"
   ]
  },
  {
   "cell_type": "code",
   "execution_count": 390,
   "id": "5d6d7697",
   "metadata": {},
   "outputs": [],
   "source": [
    "for col in ['Value', 'Wage', 'Release clause']:\n",
    "    df[col + '_EUR'] = df[col].apply(parse_money)\n"
   ]
  },
  {
   "cell_type": "code",
   "execution_count": 391,
   "id": "404b0a37",
   "metadata": {},
   "outputs": [],
   "source": [
    "objectcols=['Value', 'Wage', 'Release clause']"
   ]
  },
  {
   "cell_type": "code",
   "execution_count": 392,
   "id": "e5f03553",
   "metadata": {},
   "outputs": [],
   "source": [
    "df.drop(objectcols,axis=1,inplace=True)"
   ]
  },
  {
   "cell_type": "code",
   "execution_count": 393,
   "id": "585d8bd1",
   "metadata": {},
   "outputs": [],
   "source": [
    "# Define your list of top clubs (you can modify this list)\n",
    "top_clubs = [\n",
    "    'Real Madrid', 'Manchester City', 'Paris Saint Germain',\n",
    "    'Barcelona', 'FC Bayern München', 'Liverpool', 'Chelsea',\n",
    "    'Arsenal', 'Juventus', 'Inter', 'AC Milan','Ajax'\n",
    "]\n",
    "\n",
    "tier2 = ['Napoli', 'Atletico Madrid', 'Dortmund', 'Tottenham']"
   ]
  },
  {
   "cell_type": "code",
   "execution_count": 394,
   "id": "5a32bb32",
   "metadata": {},
   "outputs": [],
   "source": [
    "df['club_tier'] = df['club_name'].apply(\n",
    "    lambda x: 3 if x in top_clubs else (2 if x in tier2 else 1)\n",
    ")\n"
   ]
  },
  {
   "cell_type": "code",
   "execution_count": 395,
   "id": "a97dca6c",
   "metadata": {},
   "outputs": [],
   "source": [
    "df.drop('club_name',axis=1,inplace=True)"
   ]
  },
  {
   "cell_type": "code",
   "execution_count": 396,
   "id": "26a94e9c",
   "metadata": {},
   "outputs": [],
   "source": [
    "df['ContractKnown'] = df['ContractLength'].notnull().astype(int)\n",
    "df['ContractLength'] = df['ContractLength'].fillna(df['ContractLength'].median())\n"
   ]
  },
  {
   "cell_type": "code",
   "execution_count": 397,
   "id": "5168223a",
   "metadata": {},
   "outputs": [
    {
     "data": {
      "text/plain": [
       "Index(['Age', 'Potential', 'foot', 'Growth', 'Total attacking', 'Total skill',\n",
       "       'Total movement', 'Total power', 'Total mentality', 'Total defending',\n",
       "       'Total goalkeeping', 'Total stats', 'Weak foot', 'Skill moves',\n",
       "       'Attacking work rate', 'Defensive work rate',\n",
       "       'International reputation', 'Number of playstyles', 'BaseRating',\n",
       "       'LiveForm', 'is_prodigy', 'On_loan', 'is_ageing star', 'is_baller',\n",
       "       'ContractLength', 'ContractExpiring', 'BMI', 'Value_EUR', 'Wage_EUR',\n",
       "       'Release clause_EUR', 'club_tier', 'ContractKnown'],\n",
       "      dtype='object')"
      ]
     },
     "execution_count": 397,
     "metadata": {},
     "output_type": "execute_result"
    }
   ],
   "source": [
    "df.columns"
   ]
  },
  {
   "cell_type": "code",
   "execution_count": 398,
   "id": "dc8fa937",
   "metadata": {},
   "outputs": [],
   "source": [
    "df['value_efficiency'] = df['Value_EUR'] / (df['Total stats'] + df['BaseRating'])\n"
   ]
  },
  {
   "cell_type": "code",
   "execution_count": null,
   "id": "9a0c9fa2",
   "metadata": {},
   "outputs": [],
   "source": []
  },
  {
   "cell_type": "code",
   "execution_count": 399,
   "id": "c996a756",
   "metadata": {},
   "outputs": [],
   "source": [
    "X=df.drop(['Value_EUR'],axis=1)\n",
    "y=df['Value_EUR']"
   ]
  },
  {
   "cell_type": "code",
   "execution_count": 400,
   "id": "f93dbcbd",
   "metadata": {},
   "outputs": [],
   "source": [
    "from sklearn.model_selection import train_test_split\n",
    "X_train,X_test,Y_train,Y_test=train_test_split(X,y,test_size=0.3,random_state=42)"
   ]
  },
  {
   "cell_type": "code",
   "execution_count": 401,
   "id": "a7d7c300",
   "metadata": {},
   "outputs": [
    {
     "data": {
      "text/plain": [
       "((247238, 32), (105960, 32))"
      ]
     },
     "execution_count": 401,
     "metadata": {},
     "output_type": "execute_result"
    }
   ],
   "source": [
    "X_train.shape,X_test.shape"
   ]
  },
  {
   "cell_type": "code",
   "execution_count": 402,
   "id": "59d33b18",
   "metadata": {},
   "outputs": [],
   "source": [
    "from sklearn.preprocessing import StandardScaler\n",
    "scaler=StandardScaler()\n",
    "X_train=scaler.fit_transform(X_train)\n",
    "X_test=scaler.transform(X_test)"
   ]
  },
  {
   "cell_type": "code",
   "execution_count": 403,
   "id": "e273b8f4",
   "metadata": {},
   "outputs": [],
   "source": [
    "from sklearn.metrics import mean_squared_error, mean_absolute_error, r2_score\n",
    "import numpy as np\n",
    "\n",
    "def regression_metrics(y_true, y_pred, verbose=True):\n",
    "    mae = mean_absolute_error(y_true, y_pred)\n",
    "    mse = mean_squared_error(y_true, y_pred)\n",
    "    rmse = np.sqrt(mse)\n",
    "    r2 = r2_score(y_true, y_pred)\n",
    "\n",
    "    results = {\n",
    "        'MAE': mae,\n",
    "        'MSE': mse,\n",
    "        'RMSE': rmse,\n",
    "        'R²': r2\n",
    "    }\n",
    "\n",
    "    if verbose:\n",
    "        print(f\"📊 Regression Metrics:\")\n",
    "        print(f\"MAE  (Mean Absolute Error)     : {mae:.4f}\")\n",
    "        print(f\"MSE  (Mean Squared Error)      : {mse:.4f}\")\n",
    "        print(f\"RMSE (Root Mean Squared Error) : {rmse:.4f}\")\n",
    "        print(f\"R²   (R-squared)               : {r2:.4f}\")\n",
    "\n",
    "    return results\n",
    "\n",
    "    "
   ]
  },
  {
   "cell_type": "code",
   "execution_count": 404,
   "id": "2092eea4",
   "metadata": {},
   "outputs": [
    {
     "name": "stdout",
     "output_type": "stream",
     "text": [
      "📊 Regression Metrics:\n",
      "MAE  (Mean Absolute Error)     : 305163.3309\n",
      "MSE  (Mean Squared Error)      : 670144205401.4626\n",
      "RMSE (Root Mean Squared Error) : 818623.3599\n",
      "R²   (R-squared)               : 0.9884\n",
      "{'MAE': 305163.33093524555, 'MSE': 670144205401.4626, 'RMSE': np.float64(818623.359916795), 'R²': 0.9883529813427241}\n"
     ]
    }
   ],
   "source": [
    "from sklearn.linear_model import LinearRegression\n",
    "model1=LinearRegression(n_jobs=-1)\n",
    "model1.fit(X_train,Y_train)\n",
    "pred1=model1.predict(X_test)\n",
    "print(regression_metrics(Y_test,pred1))"
   ]
  },
  {
   "cell_type": "code",
   "execution_count": 405,
   "id": "6ba83dad",
   "metadata": {},
   "outputs": [
    {
     "name": "stdout",
     "output_type": "stream",
     "text": [
      "📊 Regression Metrics:\n",
      "MAE  (Mean Absolute Error)     : 558.8614\n",
      "MSE  (Mean Squared Error)      : 237625447.1263\n",
      "RMSE (Root Mean Squared Error) : 15415.1045\n",
      "R²   (R-squared)               : 1.0000\n",
      "{'MAE': 558.8613627784069, 'MSE': 237625447.12627408, 'RMSE': np.float64(15415.10451233705), 'R²': 0.9999958701008025}\n"
     ]
    }
   ],
   "source": [
    "from sklearn.ensemble import RandomForestRegressor\n",
    "model2=RandomForestRegressor(n_jobs=-1)\n",
    "model2.fit(X_train,Y_train)\n",
    "pred2=model2.predict(X_test)\n",
    "print(regression_metrics(Y_test,pred2))"
   ]
  },
  {
   "cell_type": "code",
   "execution_count": 406,
   "id": "8ca29dfd",
   "metadata": {},
   "outputs": [
    {
     "name": "stdout",
     "output_type": "stream",
     "text": [
      "Requirement already satisfied: xgboost in c:\\users\\rocki\\ml\\venv\\lib\\site-packages (3.0.2)\n",
      "Requirement already satisfied: numpy in c:\\users\\rocki\\ml\\venv\\lib\\site-packages (from xgboost) (2.2.2)\n",
      "Requirement already satisfied: scipy in c:\\users\\rocki\\ml\\venv\\lib\\site-packages (from xgboost) (1.15.3)\n",
      "Note: you may need to restart the kernel to use updated packages.\n"
     ]
    }
   ],
   "source": [
    "    pip install xgboost"
   ]
  },
  {
   "cell_type": "code",
   "execution_count": 407,
   "id": "578ec9c0",
   "metadata": {},
   "outputs": [],
   "source": [
    "import xgboost as xgb\n",
    "from xgboost import XGBRegressor"
   ]
  },
  {
   "cell_type": "code",
   "execution_count": 408,
   "id": "23bea067",
   "metadata": {},
   "outputs": [],
   "source": [
    "model = XGBRegressor(objective='reg:squarederror', n_estimators=100, learning_rate=0.1)"
   ]
  },
  {
   "cell_type": "code",
   "execution_count": 409,
   "id": "1304fd35",
   "metadata": {},
   "outputs": [
    {
     "name": "stdout",
     "output_type": "stream",
     "text": [
      "📊 Regression Metrics:\n",
      "MAE  (Mean Absolute Error)     : 31496.8725\n",
      "MSE  (Mean Squared Error)      : 17174523331.5512\n",
      "RMSE (Root Mean Squared Error) : 131051.6056\n",
      "R²   (R-squared)               : 0.9997\n",
      "{'MAE': 31496.872496262546, 'MSE': 17174523331.551174, 'RMSE': np.float64(131051.6056046288), 'R²': 0.9997015090303548}\n"
     ]
    }
   ],
   "source": [
    "model.fit(X_train,Y_train)\n",
    "pred3=model.predict(X_test)\n",
    "print(regression_metrics(Y_test,pred3))"
   ]
  },
  {
   "cell_type": "code",
   "execution_count": null,
   "id": "321d8bf6",
   "metadata": {},
   "outputs": [],
   "source": []
  }
 ],
 "metadata": {
  "kernelspec": {
   "display_name": "Python 3",
   "language": "python",
   "name": "python3"
  },
  "language_info": {
   "codemirror_mode": {
    "name": "ipython",
    "version": 3
   },
   "file_extension": ".py",
   "mimetype": "text/x-python",
   "name": "python",
   "nbconvert_exporter": "python",
   "pygments_lexer": "ipython3",
   "version": "3.10.0"
  }
 },
 "nbformat": 4,
 "nbformat_minor": 5
}
